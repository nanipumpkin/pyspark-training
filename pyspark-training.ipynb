{
 "cells": [
  {
   "cell_type": "code",
   "execution_count": 5,
   "metadata": {},
   "outputs": [],
   "source": [
    "# Import libraries\n",
    "import pandas as pd\n",
    "import pyspark\n",
    "from pyspark.sql import SparkSession"
   ]
  },
  {
   "cell_type": "code",
   "execution_count": 8,
   "metadata": {},
   "outputs": [],
   "source": [
    "# Start Spark Session\n",
    "spark = SparkSession.builder.appName('Training').getOrCreate()"
   ]
  },
  {
   "cell_type": "code",
   "execution_count": 58,
   "metadata": {},
   "outputs": [
    {
     "name": "stdout",
     "output_type": "stream",
     "text": [
      "22/12/07 16:41:02 WARN CSVHeaderChecker: CSV header does not conform to the schema.\n",
      " Header: , total_bill, tip, sex, smoker, day, time, size\n",
      " Schema: _c0, total_bill, tip, sex, smoker, day, time, size\n",
      "Expected: _c0 but found: \n",
      "CSV file: file:///home/marianne/code/pyspark-training/tips.csv\n",
      "+---+----------+----+------+------+---+------+----+\n",
      "|_c0|total_bill| tip|   sex|smoker|day|  time|size|\n",
      "+---+----------+----+------+------+---+------+----+\n",
      "|  0|     16.99|1.01|Female|    No|Sun|Dinner|   2|\n",
      "|  1|     10.34|1.66|  Male|    No|Sun|Dinner|   3|\n",
      "|  2|     21.01| 3.5|  Male|    No|Sun|Dinner|   3|\n",
      "|  3|     23.68|3.31|  Male|    No|Sun|Dinner|   2|\n",
      "|  4|     24.59|3.61|Female|    No|Sun|Dinner|   4|\n",
      "|  5|     25.29|4.71|  Male|    No|Sun|Dinner|   4|\n",
      "|  6|      8.77| 2.0|  Male|    No|Sun|Dinner|   2|\n",
      "|  7|     26.88|3.12|  Male|    No|Sun|Dinner|   4|\n",
      "|  8|     15.04|1.96|  Male|    No|Sun|Dinner|   2|\n",
      "|  9|     14.78|3.23|  Male|    No|Sun|Dinner|   2|\n",
      "| 10|     10.27|1.71|  Male|    No|Sun|Dinner|   2|\n",
      "| 11|     35.26| 5.0|Female|    No|Sun|Dinner|   4|\n",
      "| 12|     15.42|1.57|  Male|    No|Sun|Dinner|   2|\n",
      "| 13|     18.43| 3.0|  Male|    No|Sun|Dinner|   4|\n",
      "| 14|     14.83|3.02|Female|    No|Sun|Dinner|   2|\n",
      "| 15|     21.58|3.92|  Male|    No|Sun|Dinner|   2|\n",
      "| 16|     10.33|1.67|Female|    No|Sun|Dinner|   3|\n",
      "| 17|     16.29|3.71|  Male|    No|Sun|Dinner|   3|\n",
      "| 18|     16.97| 3.5|Female|    No|Sun|Dinner|   3|\n",
      "| 19|     20.65|3.35|  Male|    No|Sat|Dinner|   3|\n",
      "+---+----------+----+------+------+---+------+----+\n",
      "only showing top 20 rows\n",
      "\n"
     ]
    }
   ],
   "source": [
    "# Read the dataset\n",
    "df_pyspark = spark.read.csv('tips.csv', header=True, inferSchema=True)\n",
    "df_pyspark.show()"
   ]
  },
  {
   "cell_type": "code",
   "execution_count": 14,
   "metadata": {},
   "outputs": [
    {
     "data": {
      "text/plain": [
       "pyspark.sql.dataframe.DataFrame"
      ]
     },
     "execution_count": 14,
     "metadata": {},
     "output_type": "execute_result"
    }
   ],
   "source": [
    "# Read data type\n",
    "type(df_pyspark)"
   ]
  },
  {
   "cell_type": "code",
   "execution_count": 18,
   "metadata": {},
   "outputs": [
    {
     "name": "stdout",
     "output_type": "stream",
     "text": [
      "root\n",
      " |-- _c0: integer (nullable = true)\n",
      " |-- total_bill: double (nullable = true)\n",
      " |-- tip: double (nullable = true)\n",
      " |-- sex: string (nullable = true)\n",
      " |-- smoker: string (nullable = true)\n",
      " |-- day: string (nullable = true)\n",
      " |-- time: string (nullable = true)\n",
      " |-- size: integer (nullable = true)\n",
      "\n"
     ]
    }
   ],
   "source": [
    "# Check schema / data types\n",
    "df_pyspark.printSchema()"
   ]
  },
  {
   "cell_type": "code",
   "execution_count": 20,
   "metadata": {},
   "outputs": [
    {
     "data": {
      "text/plain": [
       "['_c0', 'total_bill', 'tip', 'sex', 'smoker', 'day', 'time', 'size']"
      ]
     },
     "execution_count": 20,
     "metadata": {},
     "output_type": "execute_result"
    }
   ],
   "source": [
    "# Check column names\n",
    "df_pyspark.columns"
   ]
  },
  {
   "cell_type": "code",
   "execution_count": 67,
   "metadata": {},
   "outputs": [
    {
     "name": "stdout",
     "output_type": "stream",
     "text": [
      "22/12/07 16:56:54 WARN CSVHeaderChecker: CSV header does not conform to the schema.\n",
      " Header: , total_bill, tip, sex, smoker, day, time, size\n",
      " Schema: _c0, total_bill, tip, sex, smoker, day, time, size\n",
      "Expected: _c0 but found: \n",
      "CSV file: file:///home/marianne/code/pyspark-training/tips.csv\n",
      "+-------+-----------------+------------------+------------------+------+------+----+------+------------------+\n",
      "|summary|              _c0|        total_bill|               tip|   sex|smoker| day|  time|              size|\n",
      "+-------+-----------------+------------------+------------------+------+------+----+------+------------------+\n",
      "|  count|              244|               244|               244|   244|   244| 244|   244|               244|\n",
      "|   mean|            121.5|19.785942622950824|2.9982786885245902|  null|  null|null|  null| 2.569672131147541|\n",
      "| stddev|70.58092282385282| 8.902411954856857|1.3836381890011815|  null|  null|null|  null|0.9510998047322347|\n",
      "|    min|                0|              3.07|               1.0|Female|    No| Fri|Dinner|                 1|\n",
      "|    max|              243|             50.81|              10.0|  Male|   Yes|Thur| Lunch|                 6|\n",
      "+-------+-----------------+------------------+------------------+------+------+----+------+------------------+\n",
      "\n"
     ]
    }
   ],
   "source": [
    "# Summary statistics\n",
    "df_pyspark.describe().show()"
   ]
  },
  {
   "cell_type": "code",
   "execution_count": 21,
   "metadata": {},
   "outputs": [
    {
     "name": "stdout",
     "output_type": "stream",
     "text": [
      "22/12/07 16:10:28 WARN CSVHeaderChecker: CSV header does not conform to the schema.\n",
      " Header: , total_bill, tip, sex, smoker, day, time, size\n",
      " Schema: _c0, total_bill, tip, sex, smoker, day, time, size\n",
      "Expected: _c0 but found: \n",
      "CSV file: file:///home/marianne/code/pyspark-training/tips.csv\n"
     ]
    },
    {
     "data": {
      "text/plain": [
       "[Row(_c0=0, total_bill=16.99, tip=1.01, sex='Female', smoker='No', day='Sun', time='Dinner', size=2),\n",
       " Row(_c0=1, total_bill=10.34, tip=1.66, sex='Male', smoker='No', day='Sun', time='Dinner', size=3),\n",
       " Row(_c0=2, total_bill=21.01, tip=3.5, sex='Male', smoker='No', day='Sun', time='Dinner', size=3)]"
      ]
     },
     "execution_count": 21,
     "metadata": {},
     "output_type": "execute_result"
    }
   ],
   "source": [
    "# Read first three entries\n",
    "df_pyspark.head(3)"
   ]
  },
  {
   "cell_type": "code",
   "execution_count": 24,
   "metadata": {},
   "outputs": [
    {
     "name": "stdout",
     "output_type": "stream",
     "text": [
      "+----+----------+----+\n",
      "| tip|total_bill|size|\n",
      "+----+----------+----+\n",
      "|1.01|     16.99|   2|\n",
      "|1.66|     10.34|   3|\n",
      "| 3.5|     21.01|   3|\n",
      "|3.31|     23.68|   2|\n",
      "|3.61|     24.59|   4|\n",
      "|4.71|     25.29|   4|\n",
      "| 2.0|      8.77|   2|\n",
      "|3.12|     26.88|   4|\n",
      "|1.96|     15.04|   2|\n",
      "|3.23|     14.78|   2|\n",
      "|1.71|     10.27|   2|\n",
      "| 5.0|     35.26|   4|\n",
      "|1.57|     15.42|   2|\n",
      "| 3.0|     18.43|   4|\n",
      "|3.02|     14.83|   2|\n",
      "|3.92|     21.58|   2|\n",
      "|1.67|     10.33|   3|\n",
      "|3.71|     16.29|   3|\n",
      "| 3.5|     16.97|   3|\n",
      "|3.35|     20.65|   3|\n",
      "+----+----------+----+\n",
      "only showing top 20 rows\n",
      "\n"
     ]
    }
   ],
   "source": [
    "# Select particular column\n",
    "df_pyspark.select(['tip', 'total_bill', 'size']).show()"
   ]
  },
  {
   "cell_type": "code",
   "execution_count": 61,
   "metadata": {},
   "outputs": [
    {
     "name": "stdout",
     "output_type": "stream",
     "text": [
      "22/12/07 16:42:21 WARN CSVHeaderChecker: CSV header does not conform to the schema.\n",
      " Header: , total_bill, tip, sex, smoker, day, time, size\n",
      " Schema: _c0, total_bill, tip, sex, smoker, day, time, size\n",
      "Expected: _c0 but found: \n",
      "CSV file: file:///home/marianne/code/pyspark-training/tips.csv\n",
      "+---+----------+----+------+------+---+------+----+------------------+-------------------+\n",
      "|_c0|total_bill| tip|   sex|smoker|day|  time|size|  price_per_person|     tip_percentage|\n",
      "+---+----------+----+------+------+---+------+----+------------------+-------------------+\n",
      "|  0|     16.99|1.01|Female|    No|Sun|Dinner|   2|             8.495|0.05944673337257211|\n",
      "|  1|     10.34|1.66|  Male|    No|Sun|Dinner|   3|3.4466666666666668|0.16054158607350097|\n",
      "|  2|     21.01| 3.5|  Male|    No|Sun|Dinner|   3| 7.003333333333334|0.16658733936220846|\n",
      "|  3|     23.68|3.31|  Male|    No|Sun|Dinner|   2|             11.84| 0.1397804054054054|\n",
      "|  4|     24.59|3.61|Female|    No|Sun|Dinner|   4|            6.1475|0.14680764538430255|\n",
      "|  5|     25.29|4.71|  Male|    No|Sun|Dinner|   4|            6.3225|0.18623962040332148|\n",
      "|  6|      8.77| 2.0|  Male|    No|Sun|Dinner|   2|             4.385|0.22805017103762829|\n",
      "|  7|     26.88|3.12|  Male|    No|Sun|Dinner|   4|              6.72|0.11607142857142858|\n",
      "|  8|     15.04|1.96|  Male|    No|Sun|Dinner|   2|              7.52|0.13031914893617022|\n",
      "|  9|     14.78|3.23|  Male|    No|Sun|Dinner|   2|              7.39| 0.2185385656292287|\n",
      "| 10|     10.27|1.71|  Male|    No|Sun|Dinner|   2|             5.135| 0.1665043816942551|\n",
      "| 11|     35.26| 5.0|Female|    No|Sun|Dinner|   4|             8.815|0.14180374361883155|\n",
      "| 12|     15.42|1.57|  Male|    No|Sun|Dinner|   2|              7.71|0.10181582360570687|\n",
      "| 13|     18.43| 3.0|  Male|    No|Sun|Dinner|   4|            4.6075|0.16277807921866522|\n",
      "| 14|     14.83|3.02|Female|    No|Sun|Dinner|   2|             7.415|0.20364126770060686|\n",
      "| 15|     21.58|3.92|  Male|    No|Sun|Dinner|   2|             10.79|0.18164967562557924|\n",
      "| 16|     10.33|1.67|Female|    No|Sun|Dinner|   3|3.4433333333333334| 0.1616650532429816|\n",
      "| 17|     16.29|3.71|  Male|    No|Sun|Dinner|   3|              5.43|0.22774708410067526|\n",
      "| 18|     16.97| 3.5|Female|    No|Sun|Dinner|   3| 5.656666666666666|0.20624631703005306|\n",
      "| 19|     20.65|3.35|  Male|    No|Sat|Dinner|   3| 6.883333333333333|0.16222760290556903|\n",
      "+---+----------+----+------+------+---+------+----+------------------+-------------------+\n",
      "only showing top 20 rows\n",
      "\n"
     ]
    }
   ],
   "source": [
    "# Adding columns / expanding data\n",
    "df_price_percapita = df_pyspark.withColumn('price_per_person', df_pyspark['total_bill']/df_pyspark['size'])\n",
    "df_tip_percentage = df_price_percapita.withColumn('tip_percentage', df_pyspark['tip']/df_pyspark['total_bill'])\n",
    "df_tip_percentage.show()"
   ]
  },
  {
   "cell_type": "code",
   "execution_count": 63,
   "metadata": {},
   "outputs": [
    {
     "name": "stdout",
     "output_type": "stream",
     "text": [
      "22/12/07 16:44:25 WARN CSVHeaderChecker: CSV header does not conform to the schema.\n",
      " Header: , total_bill, tip, sex, smoker, day, time, size\n",
      " Schema: _c0, total_bill, tip, sex, smoker, day, time, size\n",
      "Expected: _c0 but found: \n",
      "CSV file: file:///home/marianne/code/pyspark-training/tips.csv\n",
      "+---+----------+----+------+------+---+------+----+-------------------+\n",
      "|_c0|total_bill| tip|   sex|smoker|day|  time|size|     tip_percentage|\n",
      "+---+----------+----+------+------+---+------+----+-------------------+\n",
      "|  0|     16.99|1.01|Female|    No|Sun|Dinner|   2|0.05944673337257211|\n",
      "|  1|     10.34|1.66|  Male|    No|Sun|Dinner|   3|0.16054158607350097|\n",
      "|  2|     21.01| 3.5|  Male|    No|Sun|Dinner|   3|0.16658733936220846|\n",
      "|  3|     23.68|3.31|  Male|    No|Sun|Dinner|   2| 0.1397804054054054|\n",
      "|  4|     24.59|3.61|Female|    No|Sun|Dinner|   4|0.14680764538430255|\n",
      "|  5|     25.29|4.71|  Male|    No|Sun|Dinner|   4|0.18623962040332148|\n",
      "|  6|      8.77| 2.0|  Male|    No|Sun|Dinner|   2|0.22805017103762829|\n",
      "|  7|     26.88|3.12|  Male|    No|Sun|Dinner|   4|0.11607142857142858|\n",
      "|  8|     15.04|1.96|  Male|    No|Sun|Dinner|   2|0.13031914893617022|\n",
      "|  9|     14.78|3.23|  Male|    No|Sun|Dinner|   2| 0.2185385656292287|\n",
      "| 10|     10.27|1.71|  Male|    No|Sun|Dinner|   2| 0.1665043816942551|\n",
      "| 11|     35.26| 5.0|Female|    No|Sun|Dinner|   4|0.14180374361883155|\n",
      "| 12|     15.42|1.57|  Male|    No|Sun|Dinner|   2|0.10181582360570687|\n",
      "| 13|     18.43| 3.0|  Male|    No|Sun|Dinner|   4|0.16277807921866522|\n",
      "| 14|     14.83|3.02|Female|    No|Sun|Dinner|   2|0.20364126770060686|\n",
      "| 15|     21.58|3.92|  Male|    No|Sun|Dinner|   2|0.18164967562557924|\n",
      "| 16|     10.33|1.67|Female|    No|Sun|Dinner|   3| 0.1616650532429816|\n",
      "| 17|     16.29|3.71|  Male|    No|Sun|Dinner|   3|0.22774708410067526|\n",
      "| 18|     16.97| 3.5|Female|    No|Sun|Dinner|   3|0.20624631703005306|\n",
      "| 19|     20.65|3.35|  Male|    No|Sat|Dinner|   3|0.16222760290556903|\n",
      "+---+----------+----+------+------+---+------+----+-------------------+\n",
      "only showing top 20 rows\n",
      "\n"
     ]
    }
   ],
   "source": [
    "# Dropping columns\n",
    "df_tip_six = df_tip_percentage.drop('price_per_person')\n",
    "df_tip_six.show()"
   ]
  },
  {
   "cell_type": "code",
   "execution_count": 64,
   "metadata": {},
   "outputs": [
    {
     "name": "stdout",
     "output_type": "stream",
     "text": [
      "22/12/07 16:47:00 WARN CSVHeaderChecker: CSV header does not conform to the schema.\n",
      " Header: , total_bill, tip, sex, smoker, day, time, size\n",
      " Schema: _c0, total_bill, tip, sex, smoker, day, time, size\n",
      "Expected: _c0 but found: \n",
      "CSV file: file:///home/marianne/code/pyspark-training/tips.csv\n",
      "+---+----------+----+------+------+---+------+----+-------------------+\n",
      "|_c0|total_bill| tip|   sex|smoker|day|  time|size|            tip_pct|\n",
      "+---+----------+----+------+------+---+------+----+-------------------+\n",
      "|  0|     16.99|1.01|Female|    No|Sun|Dinner|   2|0.05944673337257211|\n",
      "|  1|     10.34|1.66|  Male|    No|Sun|Dinner|   3|0.16054158607350097|\n",
      "|  2|     21.01| 3.5|  Male|    No|Sun|Dinner|   3|0.16658733936220846|\n",
      "|  3|     23.68|3.31|  Male|    No|Sun|Dinner|   2| 0.1397804054054054|\n",
      "|  4|     24.59|3.61|Female|    No|Sun|Dinner|   4|0.14680764538430255|\n",
      "|  5|     25.29|4.71|  Male|    No|Sun|Dinner|   4|0.18623962040332148|\n",
      "|  6|      8.77| 2.0|  Male|    No|Sun|Dinner|   2|0.22805017103762829|\n",
      "|  7|     26.88|3.12|  Male|    No|Sun|Dinner|   4|0.11607142857142858|\n",
      "|  8|     15.04|1.96|  Male|    No|Sun|Dinner|   2|0.13031914893617022|\n",
      "|  9|     14.78|3.23|  Male|    No|Sun|Dinner|   2| 0.2185385656292287|\n",
      "| 10|     10.27|1.71|  Male|    No|Sun|Dinner|   2| 0.1665043816942551|\n",
      "| 11|     35.26| 5.0|Female|    No|Sun|Dinner|   4|0.14180374361883155|\n",
      "| 12|     15.42|1.57|  Male|    No|Sun|Dinner|   2|0.10181582360570687|\n",
      "| 13|     18.43| 3.0|  Male|    No|Sun|Dinner|   4|0.16277807921866522|\n",
      "| 14|     14.83|3.02|Female|    No|Sun|Dinner|   2|0.20364126770060686|\n",
      "| 15|     21.58|3.92|  Male|    No|Sun|Dinner|   2|0.18164967562557924|\n",
      "| 16|     10.33|1.67|Female|    No|Sun|Dinner|   3| 0.1616650532429816|\n",
      "| 17|     16.29|3.71|  Male|    No|Sun|Dinner|   3|0.22774708410067526|\n",
      "| 18|     16.97| 3.5|Female|    No|Sun|Dinner|   3|0.20624631703005306|\n",
      "| 19|     20.65|3.35|  Male|    No|Sat|Dinner|   3|0.16222760290556903|\n",
      "+---+----------+----+------+------+---+------+----+-------------------+\n",
      "only showing top 20 rows\n",
      "\n"
     ]
    }
   ],
   "source": [
    "# Rename column\n",
    "df_tip_six_renamed = df_tip_six.withColumnRenamed('tip_percentage', 'tip_pct')\n",
    "df_tip_six_renamed.show()"
   ]
  },
  {
   "cell_type": "code",
   "execution_count": 65,
   "metadata": {},
   "outputs": [
    {
     "name": "stdout",
     "output_type": "stream",
     "text": [
      "22/12/07 16:53:16 WARN CSVHeaderChecker: CSV header does not conform to the schema.\n",
      " Header: , total_bill, tip, sex, smoker, day, time, size\n",
      " Schema: _c0, total_bill, tip, sex, smoker, day, time, size\n",
      "Expected: _c0 but found: \n",
      "CSV file: file:///home/marianne/code/pyspark-training/tips.csv\n",
      "+---+----------+----+------+------+---+------+----+-------------------+\n",
      "|_c0|total_bill| tip|   sex|smoker|day|  time|size|            tip_pct|\n",
      "+---+----------+----+------+------+---+------+----+-------------------+\n",
      "|  0|     16.99|1.01|Female|    No|Sun|Dinner|   2|0.05944673337257211|\n",
      "|  1|     10.34|1.66|  Male|    No|Sun|Dinner|   3|0.16054158607350097|\n",
      "|  2|     21.01| 3.5|  Male|    No|Sun|Dinner|   3|0.16658733936220846|\n",
      "|  3|     23.68|3.31|  Male|    No|Sun|Dinner|   2| 0.1397804054054054|\n",
      "|  4|     24.59|3.61|Female|    No|Sun|Dinner|   4|0.14680764538430255|\n",
      "|  5|     25.29|4.71|  Male|    No|Sun|Dinner|   4|0.18623962040332148|\n",
      "|  6|      8.77| 2.0|  Male|    No|Sun|Dinner|   2|0.22805017103762829|\n",
      "|  7|     26.88|3.12|  Male|    No|Sun|Dinner|   4|0.11607142857142858|\n",
      "|  8|     15.04|1.96|  Male|    No|Sun|Dinner|   2|0.13031914893617022|\n",
      "|  9|     14.78|3.23|  Male|    No|Sun|Dinner|   2| 0.2185385656292287|\n",
      "| 10|     10.27|1.71|  Male|    No|Sun|Dinner|   2| 0.1665043816942551|\n",
      "| 11|     35.26| 5.0|Female|    No|Sun|Dinner|   4|0.14180374361883155|\n",
      "| 12|     15.42|1.57|  Male|    No|Sun|Dinner|   2|0.10181582360570687|\n",
      "| 13|     18.43| 3.0|  Male|    No|Sun|Dinner|   4|0.16277807921866522|\n",
      "| 14|     14.83|3.02|Female|    No|Sun|Dinner|   2|0.20364126770060686|\n",
      "| 15|     21.58|3.92|  Male|    No|Sun|Dinner|   2|0.18164967562557924|\n",
      "| 16|     10.33|1.67|Female|    No|Sun|Dinner|   3| 0.1616650532429816|\n",
      "| 17|     16.29|3.71|  Male|    No|Sun|Dinner|   3|0.22774708410067526|\n",
      "| 18|     16.97| 3.5|Female|    No|Sun|Dinner|   3|0.20624631703005306|\n",
      "| 19|     20.65|3.35|  Male|    No|Sat|Dinner|   3|0.16222760290556903|\n",
      "+---+----------+----+------+------+---+------+----+-------------------+\n",
      "only showing top 20 rows\n",
      "\n"
     ]
    }
   ],
   "source": [
    "# Drop null values\n",
    "df_tip_six_renamed.na.drop(how='any', thresh=2, subset=['tip']).show() #This dataframe has no null values, this row just means to keep the method documented"
   ]
  },
  {
   "cell_type": "code",
   "execution_count": 72,
   "metadata": {},
   "outputs": [
    {
     "name": "stdout",
     "output_type": "stream",
     "text": [
      "22/12/07 17:17:50 WARN CSVHeaderChecker: CSV header does not conform to the schema.\n",
      " Header: , total_bill, tip, sex, smoker, day, time, size\n",
      " Schema: _c0, total_bill, tip, sex, smoker, day, time, size\n",
      "Expected: _c0 but found: \n",
      "CSV file: file:///home/marianne/code/pyspark-training/tips.csv\n",
      "+---+----------+----+------+------+---+------+----+-------------------+-----------+------------------+\n",
      "|_c0|total_bill| tip|   sex|smoker|day|  time|size|            tip_pct|tip_imputed|total_bill_imputed|\n",
      "+---+----------+----+------+------+---+------+----+-------------------+-----------+------------------+\n",
      "|  0|     16.99|1.01|Female|    No|Sun|Dinner|   2|0.05944673337257211|       1.01|             16.99|\n",
      "|  1|     10.34|1.66|  Male|    No|Sun|Dinner|   3|0.16054158607350097|       1.66|             10.34|\n",
      "|  2|     21.01| 3.5|  Male|    No|Sun|Dinner|   3|0.16658733936220846|        3.5|             21.01|\n",
      "|  3|     23.68|3.31|  Male|    No|Sun|Dinner|   2| 0.1397804054054054|       3.31|             23.68|\n",
      "|  4|     24.59|3.61|Female|    No|Sun|Dinner|   4|0.14680764538430255|       3.61|             24.59|\n",
      "|  5|     25.29|4.71|  Male|    No|Sun|Dinner|   4|0.18623962040332148|       4.71|             25.29|\n",
      "|  6|      8.77| 2.0|  Male|    No|Sun|Dinner|   2|0.22805017103762829|        2.0|              8.77|\n",
      "|  7|     26.88|3.12|  Male|    No|Sun|Dinner|   4|0.11607142857142858|       3.12|             26.88|\n",
      "|  8|     15.04|1.96|  Male|    No|Sun|Dinner|   2|0.13031914893617022|       1.96|             15.04|\n",
      "|  9|     14.78|3.23|  Male|    No|Sun|Dinner|   2| 0.2185385656292287|       3.23|             14.78|\n",
      "| 10|     10.27|1.71|  Male|    No|Sun|Dinner|   2| 0.1665043816942551|       1.71|             10.27|\n",
      "| 11|     35.26| 5.0|Female|    No|Sun|Dinner|   4|0.14180374361883155|        5.0|             35.26|\n",
      "| 12|     15.42|1.57|  Male|    No|Sun|Dinner|   2|0.10181582360570687|       1.57|             15.42|\n",
      "| 13|     18.43| 3.0|  Male|    No|Sun|Dinner|   4|0.16277807921866522|        3.0|             18.43|\n",
      "| 14|     14.83|3.02|Female|    No|Sun|Dinner|   2|0.20364126770060686|       3.02|             14.83|\n",
      "| 15|     21.58|3.92|  Male|    No|Sun|Dinner|   2|0.18164967562557924|       3.92|             21.58|\n",
      "| 16|     10.33|1.67|Female|    No|Sun|Dinner|   3| 0.1616650532429816|       1.67|             10.33|\n",
      "| 17|     16.29|3.71|  Male|    No|Sun|Dinner|   3|0.22774708410067526|       3.71|             16.29|\n",
      "| 18|     16.97| 3.5|Female|    No|Sun|Dinner|   3|0.20624631703005306|        3.5|             16.97|\n",
      "| 19|     20.65|3.35|  Male|    No|Sat|Dinner|   3|0.16222760290556903|       3.35|             20.65|\n",
      "+---+----------+----+------+------+---+------+----+-------------------+-----------+------------------+\n",
      "only showing top 20 rows\n",
      "\n"
     ]
    }
   ],
   "source": [
    "# Fill null values\n",
    "\n",
    "from pyspark.ml.feature import Imputer\n",
    "imputer = Imputer(\n",
    "    inputCols=['tip', 'total_bill'], \n",
    "    outputCols=['{}_imputed'.format(c) for c in ['tip', 'total_bill']]\n",
    ").setStrategy('mean')\n",
    "\n",
    "imputer.fit(df_tip_six_renamed).transform(df_tip_six_renamed).show()"
   ]
  },
  {
   "cell_type": "code",
   "execution_count": 79,
   "metadata": {},
   "outputs": [
    {
     "name": "stdout",
     "output_type": "stream",
     "text": [
      "22/12/07 17:29:39 WARN CSVHeaderChecker: CSV header does not conform to the schema.\n",
      " Header: , total_bill, tip, sex, smoker, day, time, size\n",
      " Schema: _c0, total_bill, tip, sex, smoker, day, time, size\n",
      "Expected: _c0 but found: \n",
      "CSV file: file:///home/marianne/code/pyspark-training/tips.csv\n",
      "+---+----------+----+------+------+----+------+----+-------------------+\n",
      "|_c0|total_bill| tip|   sex|smoker| day|  time|size|            tip_pct|\n",
      "+---+----------+----+------+------+----+------+----+-------------------+\n",
      "| 23|     39.42|7.58|  Male|    No| Sat|Dinner|   4|0.19228817858954844|\n",
      "| 47|      32.4| 6.0|  Male|    No| Sun|Dinner|   4| 0.1851851851851852|\n",
      "| 59|     48.27|6.73|  Male|    No| Sat|Dinner|   4|0.13942407292314066|\n",
      "|141|      34.3| 6.7|  Male|    No|Thur| Lunch|   6|0.19533527696793004|\n",
      "|170|     50.81|10.0|  Male|   Yes| Sat|Dinner|   3|0.19681165124975397|\n",
      "|183|     23.17| 6.5|  Male|   Yes| Sun|Dinner|   4| 0.2805351747949935|\n",
      "|212|     48.33| 9.0|  Male|    No| Sat|Dinner|   4|  0.186219739292365|\n",
      "|214|     28.17| 6.5|Female|   Yes| Sat|Dinner|   3|0.23074192403265883|\n",
      "+---+----------+----+------+------+----+------+----+-------------------+\n",
      "\n"
     ]
    }
   ],
   "source": [
    "# Tips greater than or equal to $3 USD\n",
    "df_tip_six_renamed.filter('tip>=6').show() "
   ]
  },
  {
   "cell_type": "code",
   "execution_count": 80,
   "metadata": {},
   "outputs": [
    {
     "name": "stdout",
     "output_type": "stream",
     "text": [
      "22/12/07 17:31:17 WARN CSVHeaderChecker: CSV header does not conform to the schema.\n",
      " Header: , total_bill, tip, sex, smoker, day, time, size\n",
      " Schema: _c0, total_bill, tip, sex, smoker, day, time, size\n",
      "Expected: _c0 but found: \n",
      "CSV file: file:///home/marianne/code/pyspark-training/tips.csv\n",
      "+---+----------+----+------+------+----+------+----+-------------------+\n",
      "|_c0|total_bill| tip|   sex|smoker| day|  time|size|            tip_pct|\n",
      "+---+----------+----+------+------+----+------+----+-------------------+\n",
      "|125|      29.8| 4.2|Female|    No|Thur| Lunch|   6|0.14093959731543623|\n",
      "|141|      34.3| 6.7|  Male|    No|Thur| Lunch|   6|0.19533527696793004|\n",
      "|142|     41.19| 5.0|  Male|    No|Thur| Lunch|   5|0.12138868657441128|\n",
      "|143|     27.05| 5.0|Female|    No|Thur| Lunch|   6|0.18484288354898337|\n",
      "|155|     29.85|5.14|Female|    No| Sun|Dinner|   5| 0.1721943048576214|\n",
      "|156|     48.17| 5.0|  Male|    No| Sun|Dinner|   6|0.10379904504878555|\n",
      "|185|     20.69| 5.0|  Male|    No| Sun|Dinner|   5| 0.2416626389560174|\n",
      "|187|     30.46| 2.0|  Male|   Yes| Sun|Dinner|   5|0.06565988181221273|\n",
      "|216|     28.15| 3.0|  Male|   Yes| Sat|Dinner|   5|0.10657193605683837|\n",
      "+---+----------+----+------+------+----+------+----+-------------------+\n",
      "\n"
     ]
    }
   ],
   "source": [
    "# Parties greater than or equal to 5 people\n",
    "df_tip_six_renamed.filter('size>=5').show() "
   ]
  },
  {
   "cell_type": "code",
   "execution_count": 84,
   "metadata": {},
   "outputs": [
    {
     "name": "stdout",
     "output_type": "stream",
     "text": [
      "22/12/07 17:36:37 WARN CSVHeaderChecker: CSV header does not conform to the schema.\n",
      " Header: , total_bill, tip, sex, smoker, day, time, size\n",
      " Schema: _c0, total_bill, tip, sex, smoker, day, time, size\n",
      "Expected: _c0 but found: \n",
      "CSV file: file:///home/marianne/code/pyspark-training/tips.csv\n",
      "+---+----------+----+------+------+---+------+----+-------------------+\n",
      "|_c0|total_bill| tip|   sex|smoker|day|  time|size|            tip_pct|\n",
      "+---+----------+----+------+------+---+------+----+-------------------+\n",
      "|  0|     16.99|1.01|Female|    No|Sun|Dinner|   2|0.05944673337257211|\n",
      "|  1|     10.34|1.66|  Male|    No|Sun|Dinner|   3|0.16054158607350097|\n",
      "|  2|     21.01| 3.5|  Male|    No|Sun|Dinner|   3|0.16658733936220846|\n",
      "|  3|     23.68|3.31|  Male|    No|Sun|Dinner|   2| 0.1397804054054054|\n",
      "|  4|     24.59|3.61|Female|    No|Sun|Dinner|   4|0.14680764538430255|\n",
      "|  5|     25.29|4.71|  Male|    No|Sun|Dinner|   4|0.18623962040332148|\n",
      "|  6|      8.77| 2.0|  Male|    No|Sun|Dinner|   2|0.22805017103762829|\n",
      "|  7|     26.88|3.12|  Male|    No|Sun|Dinner|   4|0.11607142857142858|\n",
      "|  8|     15.04|1.96|  Male|    No|Sun|Dinner|   2|0.13031914893617022|\n",
      "|  9|     14.78|3.23|  Male|    No|Sun|Dinner|   2| 0.2185385656292287|\n",
      "| 10|     10.27|1.71|  Male|    No|Sun|Dinner|   2| 0.1665043816942551|\n",
      "| 11|     35.26| 5.0|Female|    No|Sun|Dinner|   4|0.14180374361883155|\n",
      "| 12|     15.42|1.57|  Male|    No|Sun|Dinner|   2|0.10181582360570687|\n",
      "| 13|     18.43| 3.0|  Male|    No|Sun|Dinner|   4|0.16277807921866522|\n",
      "| 14|     14.83|3.02|Female|    No|Sun|Dinner|   2|0.20364126770060686|\n",
      "| 15|     21.58|3.92|  Male|    No|Sun|Dinner|   2|0.18164967562557924|\n",
      "| 16|     10.33|1.67|Female|    No|Sun|Dinner|   3| 0.1616650532429816|\n",
      "| 17|     16.29|3.71|  Male|    No|Sun|Dinner|   3|0.22774708410067526|\n",
      "| 18|     16.97| 3.5|Female|    No|Sun|Dinner|   3|0.20624631703005306|\n",
      "| 19|     20.65|3.35|  Male|    No|Sat|Dinner|   3|0.16222760290556903|\n",
      "+---+----------+----+------+------+---+------+----+-------------------+\n",
      "only showing top 20 rows\n",
      "\n"
     ]
    }
   ],
   "source": [
    "# Non smoker customers\n",
    "df_tip_six_renamed.filter(\"smoker=='No'\").show() "
   ]
  },
  {
   "cell_type": "code",
   "execution_count": 89,
   "metadata": {},
   "outputs": [
    {
     "name": "stdout",
     "output_type": "stream",
     "text": [
      "22/12/07 17:41:17 WARN CSVHeaderChecker: CSV header does not conform to the schema.\n",
      " Header: , total_bill, tip, sex, smoker, day, time, size\n",
      " Schema: _c0, total_bill, tip, sex, smoker, day, time, size\n",
      "Expected: _c0 but found: \n",
      "CSV file: file:///home/marianne/code/pyspark-training/tips.csv\n",
      "+---+----------+----+------+------+---+------+----+-------------------+\n",
      "|_c0|total_bill| tip|   sex|smoker|day|  time|size|            tip_pct|\n",
      "+---+----------+----+------+------+---+------+----+-------------------+\n",
      "|  0|     16.99|1.01|Female|    No|Sun|Dinner|   2|0.05944673337257211|\n",
      "|  1|     10.34|1.66|  Male|    No|Sun|Dinner|   3|0.16054158607350097|\n",
      "|  2|     21.01| 3.5|  Male|    No|Sun|Dinner|   3|0.16658733936220846|\n",
      "|  3|     23.68|3.31|  Male|    No|Sun|Dinner|   2| 0.1397804054054054|\n",
      "|  4|     24.59|3.61|Female|    No|Sun|Dinner|   4|0.14680764538430255|\n",
      "|  5|     25.29|4.71|  Male|    No|Sun|Dinner|   4|0.18623962040332148|\n",
      "|  6|      8.77| 2.0|  Male|    No|Sun|Dinner|   2|0.22805017103762829|\n",
      "|  7|     26.88|3.12|  Male|    No|Sun|Dinner|   4|0.11607142857142858|\n",
      "|  8|     15.04|1.96|  Male|    No|Sun|Dinner|   2|0.13031914893617022|\n",
      "|  9|     14.78|3.23|  Male|    No|Sun|Dinner|   2| 0.2185385656292287|\n",
      "| 10|     10.27|1.71|  Male|    No|Sun|Dinner|   2| 0.1665043816942551|\n",
      "| 11|     35.26| 5.0|Female|    No|Sun|Dinner|   4|0.14180374361883155|\n",
      "| 12|     15.42|1.57|  Male|    No|Sun|Dinner|   2|0.10181582360570687|\n",
      "| 13|     18.43| 3.0|  Male|    No|Sun|Dinner|   4|0.16277807921866522|\n",
      "| 14|     14.83|3.02|Female|    No|Sun|Dinner|   2|0.20364126770060686|\n",
      "| 15|     21.58|3.92|  Male|    No|Sun|Dinner|   2|0.18164967562557924|\n",
      "| 16|     10.33|1.67|Female|    No|Sun|Dinner|   3| 0.1616650532429816|\n",
      "| 17|     16.29|3.71|  Male|    No|Sun|Dinner|   3|0.22774708410067526|\n",
      "| 18|     16.97| 3.5|Female|    No|Sun|Dinner|   3|0.20624631703005306|\n",
      "| 19|     20.65|3.35|  Male|    No|Sat|Dinner|   3|0.16222760290556903|\n",
      "+---+----------+----+------+------+---+------+----+-------------------+\n",
      "only showing top 20 rows\n",
      "\n"
     ]
    }
   ],
   "source": [
    "# \n",
    "df_tip_six_renamed.filter((df_tip_six_renamed['size']<=4) |\n",
    "                          (df_tip_six_renamed['total_bill']>30)).show() "
   ]
  }
 ],
 "metadata": {
  "kernelspec": {
   "display_name": "Python 3.10.6 ('venv': venv)",
   "language": "python",
   "name": "python3"
  },
  "language_info": {
   "codemirror_mode": {
    "name": "ipython",
    "version": 3
   },
   "file_extension": ".py",
   "mimetype": "text/x-python",
   "name": "python",
   "nbconvert_exporter": "python",
   "pygments_lexer": "ipython3",
   "version": "3.10.6"
  },
  "orig_nbformat": 4,
  "vscode": {
   "interpreter": {
    "hash": "812c00da900191ab32ae0f9f7cd7cf4dd5bc6c7fc238a0d3266ec2172fe51654"
   }
  }
 },
 "nbformat": 4,
 "nbformat_minor": 2
}
